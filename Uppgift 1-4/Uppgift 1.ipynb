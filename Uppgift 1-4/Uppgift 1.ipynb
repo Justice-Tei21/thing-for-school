{
 "cells": [
  {
   "cell_type": "markdown",
   "id": "ce7328c2",
   "metadata": {},
   "source": [
    "Datatyp | Svar\n",
    "--- | ---\n",
    "Ett | str\n",
    "a | str\n",
    "4 | int\n",
    "3.6 | float\n",
    "True | bool\n",
    "'True' | str"
   ]
  },
  {
   "cell_type": "markdown",
   "id": "8c497080",
   "metadata": {},
   "source": [
    "variabel | datatyp\n",
    "--- | ---\n",
    "variabel1 = 'a, b, c' | str\n",
    "a = 10 | int\n",
    "alpha = True | bool\n",
    "variabel2 = a | str\n",
    "variabel3 = 1 | int\n",
    "variabel4 = b |str\n",
    "variablel5 = alpha| str"
   ]
  },
  {
   "cell_type": "code",
   "execution_count": 5,
   "id": "21f79da5",
   "metadata": {},
   "outputs": [
    {
     "name": "stdout",
     "output_type": "stream",
     "text": [
      "a, b, c\n",
      "10\n",
      "1\n",
      "10\n",
      "alpha\n"
     ]
    }
   ],
   "source": [
    "variabel1 = 'a, b, c' \n",
    "a = 10 \n",
    "b = a\n",
    "alpha = True \n",
    "variabel2 = a \n",
    "variabel3 = 1 \n",
    "variabel4 = b \n",
    "variable15 = 'alpha'\n",
    "\n",
    "print(variabel1)\n",
    "print(variabel2)\n",
    "print(variabel3)\n",
    "print(variabel4)\n",
    "print(variable15)"
   ]
  },
  {
   "cell_type": "code",
   "execution_count": 178,
   "id": "e6ad69e9",
   "metadata": {},
   "outputs": [
    {
     "name": "stdout",
     "output_type": "stream",
     "text": [
      "0.3333333333333333\n",
      "1/3\n",
      "0.3333333333333333\n",
      "a\n"
     ]
    }
   ],
   "source": [
    "print(1/3)\n",
    "print('1/3')\n",
    "a = 1/3 \n",
    "print(a)\n",
    "print('a')"
   ]
  },
  {
   "cell_type": "markdown",
   "id": "6ef82ab7",
   "metadata": {},
   "source": [
    "den första skapade ett nummer\n",
    "den andra skapade en stäng\n",
    "a:t gjorde 1/3 till en variabel \n",
    "print(a) skrev bara vad a representerar\n",
    "den sista är en sträng istället för variabel."
   ]
  },
  {
   "cell_type": "markdown",
   "id": "be308a1c",
   "metadata": {},
   "source": [
    "Uppgift 2"
   ]
  },
  {
   "cell_type": "code",
   "execution_count": 2,
   "id": "9ac4e93d",
   "metadata": {},
   "outputs": [
    {
     "name": "stdout",
     "output_type": "stream",
     "text": [
      "45\n"
     ]
    },
    {
     "data": {
      "text/plain": [
       "5.0"
      ]
     },
     "execution_count": 2,
     "metadata": {},
     "output_type": "execute_result"
    }
   ],
   "source": [
    "def beräknaArea(sida1, sida2):#int eller float\n",
    "  area = sida1*sida2\n",
    "  return area\n",
    " #ger int eller float area på en kvadrat\n",
    "    \n",
    "beräknaArea(2, 4)#int\n",
    "def alternativtBeräknaArea(sida1, sida2):\n",
    "  print(sida1*sida2)\n",
    "  #skriver arean på en kvadrat, int eller float\n",
    "alternativtBeräknaArea(3, 15) #int\n",
    " \n",
    "def adderaTvåSiffror(siffra1, siffra2):\n",
    "  summa = siffra1+siffra2\n",
    "  return summa\n",
    " #ger summan av två siffror\n",
    "def multipliceraOchAdderaMedY(x, y):#int eller float\n",
    "  a = x*y+y\n",
    "  return a\n",
    " #multiplicerar två nummer och adderar det andra nummret igen, int eller float\n",
    "    \n",
    "def adderaTvåTal(x, y):#int eller float\n",
    "  print(x+y)\n",
    " #skriver additionen av två nummer, int eller float\n",
    " \n",
    "import numpy as np #låt denna vara, återkommer till import\n",
    "def hittaHypotenusan(a, b):#int eller float\n",
    "  c = np.sqrt(a*a + b*b) \n",
    "  return c\n",
    " #hittar längden av hypotenusan\n",
    "hittaHypotenusan(3, 4) #float"
   ]
  },
  {
   "cell_type": "markdown",
   "id": "551ec6df",
   "metadata": {},
   "source": [
    "uppgift 2.3"
   ]
  },
  {
   "cell_type": "code",
   "execution_count": 45,
   "id": "2f7af6e0",
   "metadata": {},
   "outputs": [
    {
     "data": {
      "text/plain": [
       "8"
      ]
     },
     "execution_count": 45,
     "metadata": {},
     "output_type": "execute_result"
    }
   ],
   "source": [
    "def fibonacciNummer(nummer): #int, avrundar float upp\n",
    "    i=0\n",
    "    visas= 0\n",
    "    adderas=1\n",
    "    while i < nummer:\n",
    "        visas = visas+adderas\n",
    "        adderas= visas-adderas\n",
    "        i+=1\n",
    "    return visas#int\n",
    "        \n",
    "fibonacciNummer(6)"
   ]
  },
  {
   "cell_type": "code",
   "execution_count": 48,
   "id": "7003246c",
   "metadata": {},
   "outputs": [
    {
     "data": {
      "text/plain": [
       "50.24"
      ]
     },
     "execution_count": 48,
     "metadata": {},
     "output_type": "execute_result"
    }
   ],
   "source": [
    "def Cirkelarea(diameter):\n",
    "    radie=diameter/2\n",
    "    radie=radie**2\n",
    "    return radie*3.14\n",
    "Cirkelarea(8)"
   ]
  },
  {
   "cell_type": "code",
   "execution_count": null,
   "id": "211918db",
   "metadata": {},
   "outputs": [],
   "source": [
    "def arithmetic(): # En enkel miniräknare För +-*/ med två inputs\n",
    "    \n",
    "        a =input()# choose an operator\n",
    "        if a == 'd':\n",
    "            print(int(input())/int(input()))\n",
    "           \n",
    "        if a == 'm':\n",
    "            int(input())*int(input())\n",
    "            print()\n",
    "          \n",
    "        if a == 'a':\n",
    "            print(int(input())+int(input()))\n",
    "          \n",
    "        if a == 's':\n",
    "            print(int(input())-int(input()))\n",
    "         \n",
    "            \n",
    "arithmetic()"
   ]
  },
  {
   "cell_type": "code",
   "execution_count": null,
   "id": "96b0e960",
   "metadata": {},
   "outputs": [],
   "source": []
  },
  {
   "cell_type": "code",
   "execution_count": null,
   "id": "ea44d581",
   "metadata": {},
   "outputs": [],
   "source": []
  },
  {
   "cell_type": "code",
   "execution_count": null,
   "id": "c28ac5c6",
   "metadata": {},
   "outputs": [],
   "source": []
  }
 ],
 "metadata": {
  "kernelspec": {
   "display_name": "Python 3",
   "language": "python",
   "name": "python3"
  },
  "language_info": {
   "codemirror_mode": {
    "name": "ipython",
    "version": 3
   },
   "file_extension": ".py",
   "mimetype": "text/x-python",
   "name": "python",
   "nbconvert_exporter": "python",
   "pygments_lexer": "ipython3",
   "version": "3.8.8"
  }
 },
 "nbformat": 4,
 "nbformat_minor": 5
}
