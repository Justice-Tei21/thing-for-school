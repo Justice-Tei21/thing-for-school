{
 "cells": [
  {
   "cell_type": "markdown",
   "id": "8db52675",
   "metadata": {},
   "source": [
    "uppgift 3.1"
   ]
  },
  {
   "cell_type": "code",
   "execution_count": 4,
   "id": "223c7d77",
   "metadata": {},
   "outputs": [
    {
     "name": "stdout",
     "output_type": "stream",
     "text": [
      "3\n",
      "hej\n",
      "hej, hej, hej, \n"
     ]
    }
   ],
   "source": [
    "def Repetera():\n",
    "    a = int(input())\n",
    "    b = str(input()+', ')\n",
    "    if b == 'Rösta Rött, ':\n",
    "        print('Sosse, '*a)\n",
    "    else:\n",
    "        print(a*b)\n",
    "    \n",
    "Repetera()  \n"
   ]
  },
  {
   "cell_type": "markdown",
   "id": "f64deff9",
   "metadata": {},
   "source": [
    "uppgift 3.2"
   ]
  },
  {
   "cell_type": "code",
   "execution_count": 2,
   "id": "7598a511",
   "metadata": {},
   "outputs": [
    {
     "name": "stdout",
     "output_type": "stream",
     "text": [
      "division\n",
      "15\n",
      "5\n",
      "3.0\n"
     ]
    }
   ],
   "source": [
    "def arithmetic(): #en kalkylator för enkla operaratörer, använder bara heltal\n",
    "    \n",
    "        a =input() #tar ett input och beroende på vilken  operatör du skriver in kommer du att föras till olika operations koder\n",
    "        if a == 'd' or 'division':\n",
    "            print(int(input())/int(input()))\n",
    "           \n",
    "        if a == 'm' or 'multiplikation':\n",
    "            print(int(input())*int(input()))\n",
    "          \n",
    "        if a == 'plus' or 'addition':\n",
    "            print(int(input())+int(input()))\n",
    "          \n",
    "        if a == 's'or 'subrtaktion':\n",
    "            print(int(input())-int(input()))\n",
    "       \n",
    "         \n",
    "            \n",
    "arithmetic()"
   ]
  },
  {
   "cell_type": "markdown",
   "id": "3f1955a9",
   "metadata": {},
   "source": [
    "3.3"
   ]
  },
  {
   "cell_type": "code",
   "execution_count": null,
   "id": "8a74169a",
   "metadata": {},
   "outputs": [],
   "source": [
    "#jag gör det senare"
   ]
  },
  {
   "cell_type": "markdown",
   "id": "e43e1388",
   "metadata": {},
   "source": [
    "3.4"
   ]
  },
  {
   "cell_type": "code",
   "execution_count": 8,
   "id": "c3aa23cf",
   "metadata": {},
   "outputs": [
    {
     "name": "stdout",
     "output_type": "stream",
     "text": [
      "abNASHbfehkÖ\n",
      "invalid string\n"
     ]
    }
   ],
   "source": [
    "\n",
    "def string_checker():\n",
    "    string= input()\n",
    "    invalid = set('0123456789åäöÅÄÖ')\n",
    "    if any ((i in invalid) for i in string) or len(string)<8:\n",
    "        print('invalid string')\n",
    "    else:\n",
    "        print('works out')\n",
    "string_checker()\n",
    "        \n",
    "\n",
    "    \n",
    "        \n",
    "    "
   ]
  },
  {
   "cell_type": "code",
   "execution_count": 11,
   "id": "951c17c8",
   "metadata": {},
   "outputs": [
    {
     "name": "stdout",
     "output_type": "stream",
     "text": [
      "123qwe\n",
      "there are 3 numbers and 3 letters.\n"
     ]
    }
   ],
   "source": [
    "4.1 \n",
    "\n",
    "\n",
    "\n",
    "def breaks():\n",
    "    numbers=0\n",
    "    letters=0\n",
    "    a = input()\n",
    "    for i in a:\n",
    "        if i.isdigit()==True:\n",
    "            numbers+=1\n",
    "        if i.isalpha()== True:\n",
    "            letters+=1\n",
    "    print(f'there are {numbers} numbers and {letters} letters.')\n",
    "    \n",
    "        \n",
    "            \n",
    "        \n",
    "breaks()"
   ]
  },
  {
   "cell_type": "code",
   "execution_count": 3,
   "id": "47dcd722",
   "metadata": {},
   "outputs": [
    {
     "name": "stdout",
     "output_type": "stream",
     "text": [
      "0 )  0\n",
      "1 )  1\n",
      "2 )  1\n",
      "3 )  2\n",
      "4 )  3\n",
      "5 )  5\n",
      "6 )  8\n",
      "7 )  13\n",
      "8 )  21\n",
      "9 )  34\n",
      "10 )  55\n",
      "11 )  89\n",
      "12 )  144\n",
      "13 )  233\n",
      "14 )  377\n",
      "15 )  610\n",
      "16 )  987\n",
      "17 )  1597\n",
      "18 )  2584\n",
      "19 )  4181\n",
      "20 )  6765\n",
      "21 )  10946\n",
      "22 )  17711\n",
      "23 )  28657\n",
      "24 )  46368\n",
      "25 )  75025\n",
      "26 )  121393\n",
      "27 )  196418\n",
      "28 )  317811\n",
      "29 )  514229\n",
      "30 )  832040\n",
      "31 )  1346269\n",
      "32 )  2178309\n",
      "33 )  3524578\n",
      "34 )  5702887\n",
      "35 )  9227465\n",
      "36 )  14930352\n",
      "37 )  24157817\n",
      "38 )  39088169\n",
      "39 )  63245986\n",
      "40 )  102334155\n",
      "41 )  165580141\n",
      "42 )  267914296\n",
      "43 )  433494437\n",
      "44 )  701408733\n",
      "45 )  1134903170\n",
      "46 )  1836311903\n",
      "47 )  2971215073\n",
      "48 )  4807526976\n",
      "49 )  7778742049\n",
      "50 )  12586269025\n",
      "51 )  20365011074\n"
     ]
    }
   ],
   "source": [
    "4.2\n",
    "\n",
    "\n",
    "def fibonacci(number): #prefferably int, can take float but will round up\n",
    "    \"\"\"\n",
    "    gives a list showing numbers in the fibbonacci order \n",
    "    with their position in that order.\n",
    "    \"\"\"\n",
    "    i=0\n",
    "    k=1\n",
    "    n=0\n",
    "    while i < number+1:\n",
    "        print(i,')',n)\n",
    "        n = n+k\n",
    "        k=n-k\n",
    "        i=i+1\n",
    "fibonacci(50)"
   ]
  },
  {
   "cell_type": "code",
   "execution_count": null,
   "id": "47257a83",
   "metadata": {},
   "outputs": [],
   "source": []
  }
 ],
 "metadata": {
  "kernelspec": {
   "display_name": "Python 3",
   "language": "python",
   "name": "python3"
  },
  "language_info": {
   "codemirror_mode": {
    "name": "ipython",
    "version": 3
   },
   "file_extension": ".py",
   "mimetype": "text/x-python",
   "name": "python",
   "nbconvert_exporter": "python",
   "pygments_lexer": "ipython3",
   "version": "3.8.8"
  }
 },
 "nbformat": 4,
 "nbformat_minor": 5
}
